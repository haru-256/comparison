{
 "cells": [
  {
   "cell_type": "markdown",
   "metadata": {},
   "source": [
    "# Food 101 のデータを学習データとテストデータに分ける"
   ]
  },
  {
   "cell_type": "code",
   "execution_count": 27,
   "metadata": {},
   "outputs": [],
   "source": [
    "import shutil\n",
    "import pathlib\n",
    "import json"
   ]
  },
  {
   "cell_type": "code",
   "execution_count": 18,
   "metadata": {},
   "outputs": [
    {
     "data": {
      "text/plain": [
       "PosixPath('/media/yohei/0fbc0584-e807-41ef-a550-287e246c6cda/data/food-101/images')"
      ]
     },
     "execution_count": 18,
     "metadata": {},
     "output_type": "execute_result"
    }
   ],
   "source": [
    "data_dir = pathlib.Path(\"../data/food-101/images/\").resolve()\n",
    "data_dir"
   ]
  },
  {
   "cell_type": "code",
   "execution_count": 19,
   "metadata": {},
   "outputs": [],
   "source": [
    "train_dir = data_dir / \"train\"\n",
    "val_dir= data_dir / \"val\"\n",
    "test_dir = data_dir / \"test\"\n",
    "\n",
    "for path in [train_dir, val_dir, test_dir]:\n",
    "    if not path.exists():\n",
    "        path.mkdir()\n",
    "        print(\"make directory\", path)"
   ]
  },
  {
   "cell_type": "code",
   "execution_count": 35,
   "metadata": {},
   "outputs": [],
   "source": [
    "data_dir = pathlib.Path(\"../data/food-101/images/datas/\").resolve()\n",
    "train_data_path_file = pathlib.Path(\"../data/food-101/meta/train.txt\").resolve()\n",
    "test_data_path_file = pathlib.Path(\"../data/food-101/meta/test.txt\").resolve()"
   ]
  },
  {
   "cell_type": "code",
   "execution_count": 40,
   "metadata": {},
   "outputs": [
    {
     "name": "stdout",
     "output_type": "stream",
     "text": [
      "/media/yohei/0fbc0584-e807-41ef-a550-287e246c6cda/data/food-101/images/datas/apple_pie/1005649.jpg\n",
      "True\n",
      "/media/yohei/0fbc0584-e807-41ef-a550-287e246c6cda/data/food-101/images/datas/apple_pie/1014775.jpg\n",
      "True\n",
      "/media/yohei/0fbc0584-e807-41ef-a550-287e246c6cda/data/food-101/images/datas/apple_pie/1026328.jpg\n",
      "True\n",
      "/media/yohei/0fbc0584-e807-41ef-a550-287e246c6cda/data/food-101/images/datas/apple_pie/1028787.jpg\n",
      "True\n",
      "/media/yohei/0fbc0584-e807-41ef-a550-287e246c6cda/data/food-101/images/datas/apple_pie/1043283.jpg\n",
      "True\n",
      "/media/yohei/0fbc0584-e807-41ef-a550-287e246c6cda/data/food-101/images/datas/apple_pie/1050519.jpg\n",
      "True\n",
      "/media/yohei/0fbc0584-e807-41ef-a550-287e246c6cda/data/food-101/images/datas/apple_pie/1057749.jpg\n",
      "True\n"
     ]
    }
   ],
   "source": [
    "i=0\n",
    "with open(train_data_path_file, \"r\") as file:\n",
    "    for path in file:\n",
    "        # pathの読み込み\n",
    "        path = data_dir / \"{}.jpg\".format(path[:-1])\n",
    "        if i>5:\n",
    "            break\n",
    "        i+=1"
   ]
  },
  {
   "cell_type": "code",
   "execution_count": 17,
   "metadata": {},
   "outputs": [
    {
     "name": "stdout",
     "output_type": "stream",
     "text": [
      "/media/yohei/0fbc0584-e807-41ef-a550-287e246c6cda/data/food-101/images/datas/beignets/1091301.jpg\n",
      "/media/yohei/0fbc0584-e807-41ef-a550-287e246c6cda/data/food-101/images/datas/beignets/2993745.jpg\n",
      "/media/yohei/0fbc0584-e807-41ef-a550-287e246c6cda/data/food-101/images/datas/beignets/1178229.jpg\n",
      "/media/yohei/0fbc0584-e807-41ef-a550-287e246c6cda/data/food-101/images/datas/beignets/1350488.jpg\n",
      "/media/yohei/0fbc0584-e807-41ef-a550-287e246c6cda/data/food-101/images/datas/beignets/1782162.jpg\n",
      "/media/yohei/0fbc0584-e807-41ef-a550-287e246c6cda/data/food-101/images/datas/beignets/2605237.jpg\n",
      "/media/yohei/0fbc0584-e807-41ef-a550-287e246c6cda/data/food-101/images/datas/beignets/947663.jpg\n"
     ]
    }
   ],
   "source": [
    "i=0\n",
    "for path in data_dir.glob(\"*/*.jpg\"):\n",
    "    print(path)\n",
    "    if i>5:\n",
    "        break\n",
    "    i+=1"
   ]
  },
  {
   "cell_type": "code",
   "execution_count": null,
   "metadata": {},
   "outputs": [],
   "source": []
  }
 ],
 "metadata": {
  "kernelspec": {
   "display_name": "Python 3",
   "language": "python",
   "name": "python3"
  },
  "language_info": {
   "codemirror_mode": {
    "name": "ipython",
    "version": 3
   },
   "file_extension": ".py",
   "mimetype": "text/x-python",
   "name": "python",
   "nbconvert_exporter": "python",
   "pygments_lexer": "ipython3",
   "version": "3.6.4"
  }
 },
 "nbformat": 4,
 "nbformat_minor": 2
}
